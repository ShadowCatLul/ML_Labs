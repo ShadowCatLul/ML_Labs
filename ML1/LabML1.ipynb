{
 "cells": [
  {
   "cell_type": "markdown",
   "id": "c2ad9883-59cc-4453-a958-fb7144686609",
   "metadata": {},
   "source": [
    "# LR1\n"
   ]
  },
  {
   "cell_type": "code",
   "execution_count": 17,
   "id": "a33a5b39880b33e",
   "metadata": {
    "collapsed": false,
    "ExecuteTime": {
     "end_time": "2024-01-14T21:18:17.779914400Z",
     "start_time": "2024-01-14T21:18:17.773914500Z"
    }
   },
   "outputs": [],
   "source": [
    "from matplotlib import pyplot as plt\n",
    "import numpy as np\n",
    "from numpy import linalg as la\n",
    "from datetime import datetime\n",
    "import math\n",
    "from matplotlib import cm\n",
    "import matplotlib\n",
    "from ipywidgets import interactive, fixed\n"
   ]
  },
  {
   "cell_type": "code",
   "execution_count": null,
   "id": "f331408846b97412",
   "metadata": {
    "ExecuteTime": {
     "end_time": "2024-01-06T00:55:55.338566300Z",
     "start_time": "2024-01-06T00:55:55.323254100Z"
    },
    "collapsed": false
   },
   "outputs": [],
   "source": []
  },
  {
   "cell_type": "markdown",
   "id": "ee30ebb5029f5c0d",
   "metadata": {
    "collapsed": false
   },
   "source": [
    "# Функция Изома\n",
    "### f(x, y)= -cos(x) cos(y) e(-((x-pi)**2 + (y-pi)**2))"
   ]
  },
  {
   "cell_type": "code",
   "execution_count": 18,
   "id": "0962ae2a-8316-432c-bd17-2728122c4e4b",
   "metadata": {
    "collapsed": false,
    "ExecuteTime": {
     "end_time": "2024-01-14T21:18:19.345499900Z",
     "start_time": "2024-01-14T21:18:19.342495600Z"
    }
   },
   "outputs": [],
   "source": [
    "class Easom():\n",
    "    @staticmethod\n",
    "    def calc(x1, x2):\n",
    "        return -(np.cos(x1)*np.cos(x2))*np.exp(-((x1-math.pi)**2+(x2-math.pi)**2))\n",
    "\n",
    "    @staticmethod\n",
    "    def dx(x, y):\n",
    "        return math.e**((-x**2)-y**2-2*math.pi**2)*(np.cos(y)*math.e**(2*math.pi*x+2*math.pi*y)*np.sin(x)+(2*math.e**(2*math.pi*y)*np.cos(y)*x+(math.e**(2*math.pi*y)*np.sin(y)+(2*y-2*math.pi)*math.e**(2*math.pi*y)*np.cos(y))-2*math.pi*math.e**(2*math.pi*y)*np.cos(y))*math.e**(2*math.pi*x)*np.cos(x))\n",
    "    @staticmethod\n",
    "    def dy(x, y):\n",
    "        return math.e**((-x**2)-y**2-2*math.pi**2)*((np.cos(y)*math.e**(2*math.pi*x+2*math.pi*y)*np.sin(x)+(2*math.e**(2*math.pi*y)*np.cos(y)*x-2*math.pi*math.e**(2*math.pi*y)*np.cos(y))*math.e**(2*math.pi*x)*np.cos(x))+(math.e**(2*math.pi*y)*np.sin(y)+(2*y-2*math.pi)*math.e**(2*math.pi*y)*np.cos(y))*math.e**(2*math.pi*x)*np.cos(x))\n",
    "    \n",
    "    @staticmethod\n",
    "    def glob_min():\n",
    "        return np.array([math.pi,math.pi,-1])\n",
    "\n",
    "    @staticmethod\n",
    "    def boundaries():\n",
    "        #domain =  np.array([[-100, 100], [-100, 100]])\n",
    "        domain =  np.array([[-0, 5], [-0, 5]])\n",
    "        return(domain)"
   ]
  },
  {
   "cell_type": "code",
   "execution_count": null,
   "id": "295de660-57ea-43e3-83e0-0e12d495bc38",
   "metadata": {},
   "outputs": [],
   "source": []
  },
  {
   "cell_type": "code",
   "execution_count": 23,
   "id": "04a06e34-ff9e-46dc-86d0-6bd6edeba6c2",
   "metadata": {
    "ExecuteTime": {
     "end_time": "2024-01-14T21:20:29.695991500Z",
     "start_time": "2024-01-14T21:20:29.641382800Z"
    }
   },
   "outputs": [
    {
     "data": {
      "text/plain": "interactive(children=(IntSlider(value=0, description='E', max=90, min=-90, step=5), IntSlider(value=0, descrip…",
      "application/vnd.jupyter.widget-view+json": {
       "version_major": 2,
       "version_minor": 0,
       "model_id": "cfb45500d87145f4a9cf2c4fe0167065"
      }
     },
     "execution_count": 23,
     "metadata": {},
     "output_type": "execute_result"
    }
   ],
   "source": [
    "history = GD(Easom, Easom.boundaries()[0][0], Easom.boundaries()[1][0], 0.1, 250)\n",
    "interactive(plotter, class_to_call = fixed(Easom), E = (-90, 90, 5),A = (-90, 90, 5),  history = fixed(history))"
   ]
  },
  {
   "cell_type": "markdown",
   "id": "82638ad9-f7b0-4f3c-a5b3-216c3327b975",
   "metadata": {},
   "source": [
    "#### Дальнейшее вычисление градиента не имеет смысла, т.к. любой из методов застрянет в локальном минимуме 0"
   ]
  },
  {
   "cell_type": "markdown",
   "id": "0bfa52cc-c19b-48eb-a9c7-815cf1c71fd1",
   "metadata": {
    "ExecuteTime": {
     "end_time": "2024-01-06T00:58:04.151813300Z",
     "start_time": "2024-01-06T00:58:04.079745100Z"
    }
   },
   "source": [
    "# Функция Бута"
   ]
  },
  {
   "cell_type": "code",
   "execution_count": 93,
   "id": "43c0a850-eb6e-4b26-9919-700fbdb80dbf",
   "metadata": {
    "ExecuteTime": {
     "end_time": "2024-01-06T14:16:15.945969400Z",
     "start_time": "2024-01-06T14:16:15.881615700Z"
    }
   },
   "outputs": [],
   "source": [
    "class Booth():\n",
    "\n",
    "    @staticmethod\n",
    "    def calc(x, y):\n",
    "        return (x + 2*y -7)**2 + (2*x + y - 5)**2\n",
    "\n",
    "    @staticmethod\n",
    "    def dx(x, y):\n",
    "        return 6*x;\n",
    "    \n",
    "    @staticmethod\n",
    "    def dy(x, y):\n",
    "        return 6*y;\n",
    "    \n",
    "    @staticmethod\n",
    "    def glob_min():\n",
    "        return np.array([1,3,0])\n",
    "        \n",
    "    @staticmethod\n",
    "    def boundaries():\n",
    "        domain =  np.array([[-10, 10], [-10, 10]])\n",
    "        return domain"
   ]
  },
  {
   "cell_type": "code",
   "execution_count": 29,
   "id": "07bb0886-6003-4e75-8ebb-7c01b2331e9c",
   "metadata": {
    "ExecuteTime": {
     "end_time": "2024-01-14T21:20:55.555790Z",
     "start_time": "2024-01-14T21:20:55.490481100Z"
    }
   },
   "outputs": [
    {
     "data": {
      "text/plain": "interactive(children=(IntSlider(value=0, description='E', max=90, min=-90, step=5), IntSlider(value=0, descrip…",
      "application/vnd.jupyter.widget-view+json": {
       "version_major": 2,
       "version_minor": 0,
       "model_id": "6b956136ce2f4857990b86dbb54b78ac"
      }
     },
     "execution_count": 29,
     "metadata": {},
     "output_type": "execute_result"
    }
   ],
   "source": [
    "booth = Booth()\n",
    "history = GD(booth, booth.boundaries()[0][0], booth.boundaries()[1][0], 0.1, 250)\n",
    "interactive(plotter, class_to_call = fixed(booth), E = (-90, 90, 5), A = (-90, 90, 5), history = fixed(history))"
   ]
  },
  {
   "cell_type": "code",
   "execution_count": 30,
   "id": "21222f45-e9b9-419b-97c8-7e5a35fa03a8",
   "metadata": {
    "ExecuteTime": {
     "end_time": "2024-01-14T21:20:56.627408900Z",
     "start_time": "2024-01-14T21:20:56.574859200Z"
    }
   },
   "outputs": [
    {
     "data": {
      "text/plain": "interactive(children=(IntSlider(value=0, description='E', max=90, min=-90, step=5), IntSlider(value=0, descrip…",
      "application/vnd.jupyter.widget-view+json": {
       "version_major": 2,
       "version_minor": 0,
       "model_id": "fda2ee3ce02046e58d3943cde89ef18d"
      }
     },
     "execution_count": 30,
     "metadata": {},
     "output_type": "execute_result"
    }
   ],
   "source": [
    "booth = Booth()\n",
    "history = MGD(booth, booth.boundaries()[0][0], booth.boundaries()[1][0], 0.1, 250)\n",
    "interactive(plotter, class_to_call = fixed(booth), E = (-90, 90, 5), A = (-90, 90, 5), history = fixed(history))"
   ]
  },
  {
   "cell_type": "code",
   "execution_count": 31,
   "id": "723e590d-650d-4ae0-89da-6e282f152d2a",
   "metadata": {
    "ExecuteTime": {
     "end_time": "2024-01-14T21:20:57.852787300Z",
     "start_time": "2024-01-14T21:20:57.800280300Z"
    }
   },
   "outputs": [
    {
     "data": {
      "text/plain": "interactive(children=(IntSlider(value=0, description='E', max=90, min=-90, step=5), IntSlider(value=0, descrip…",
      "application/vnd.jupyter.widget-view+json": {
       "version_major": 2,
       "version_minor": 0,
       "model_id": "d978fb340ff94f19af38f74798712cc8"
      }
     },
     "execution_count": 31,
     "metadata": {},
     "output_type": "execute_result"
    }
   ],
   "source": [
    "booth = Booth()\n",
    "history = AGD(booth, booth.boundaries()[0][0], booth.boundaries()[1][0], 0.1, 250)\n",
    "interactive(plotter, class_to_call = fixed(booth), E = (-90, 90, 5), A = (-90, 90, 5), history = fixed(history))"
   ]
  },
  {
   "cell_type": "code",
   "execution_count": 28,
   "id": "bbad96d1452139c8",
   "metadata": {
    "collapsed": false,
    "ExecuteTime": {
     "end_time": "2024-01-14T21:20:53.648394100Z",
     "start_time": "2024-01-14T21:20:53.632488400Z"
    }
   },
   "outputs": [],
   "source": [
    "def plotter(class_to_call, E, A, history):\n",
    "\n",
    "\n",
    "    func = class_to_call\n",
    "    \n",
    "    x = np.linspace(func.boundaries()[0, 0], func.boundaries()[0, 1],100)\n",
    "    y = np.linspace(func.boundaries()[1, 0], func.boundaries()[1, 1],100)\n",
    "    x_grid, y_grid = np.meshgrid(x, y)\n",
    "    \n",
    "    \n",
    "    fig = plt.figure(figsize=[10,10])\n",
    "    ax = plt.axes(projection='3d')\n",
    "\n",
    "    z_grid = func.calc(x_grid, y_grid)\n",
    "    \n",
    "    ax.plot_surface( x_grid, y_grid, z_grid, cmap='rainbow', alpha=0.5)\n",
    "    ax.plot(history[:, 0], history[:, 1], history[:, 2], '-', c='black', alpha = 1)\n",
    "    ax.scatter3D(history[0, 0], history[0, 1], history[0, 2], s=250, c=\"white\", lw=2, ec='black', marker = 'D')\n",
    "    ax.scatter3D(history[-1, 0], history[-1, 1], history[-1, 2], s=250, c=\"white\", lw=2, ec='black', marker = '*')\n",
    "    ax.scatter3D(func.glob_min()[0], func.glob_min()[1], func.glob_min()[2], s=250, c=\"red\", lw=2, ec='black', marker = '.')\n",
    "    ax.view_init(elev=E, azim=A)\n",
    "    ax.set_xlabel('X')\n",
    "    ax.set_ylabel('Y')\n",
    "    ax.set_zlabel('f(X, Y)')\n",
    "    fig.text(0.9, 0.14, s=f\"Найденый минимум: {history[-1]}\", horizontalalignment=\"right\", fontsize = 12)\n",
    "    fig.text(0.9, 0.12, s=f\"Глобальный минимум: {func.glob_min()}\", horizontalalignment=\"right\", fontsize = 12)\n",
    "    fig.text(0.9, 0.10, s=f\"Кол-во итераций: {len(history)}\", horizontalalignment=\"right\", fontsize = 12)\n",
    "\n",
    "    \n",
    "    "
   ]
  },
  {
   "cell_type": "code",
   "execution_count": 26,
   "id": "d7c1421e22d9a7f9",
   "metadata": {
    "collapsed": false,
    "ExecuteTime": {
     "end_time": "2024-01-14T21:20:41.839355600Z",
     "start_time": "2024-01-14T21:20:41.824336400Z"
    }
   },
   "outputs": [],
   "source": [
    "def GD( f, x0, y0, lr, max_iterations, delta = 0.001):\n",
    "    grad_history = [np.array([x0, y0, f.calc(x0,y0)])]\n",
    "    i = 0 \n",
    "    while (i < max_iterations and la.norm(grad_history[-1] - f.glob_min()) > delta):\n",
    "        i += 1\n",
    "        new_x = x0 - lr * f.dx(x0,y0)\n",
    "        new_y = y0 - lr * f.dy(x0,y0)\n",
    "        x0 = new_x\n",
    "        y0 = new_y\n",
    "        grad_history.append(np.array([x0, y0, f.calc(x0, y0)]))\n",
    "    return np.array(grad_history)"
   ]
  },
  {
   "cell_type": "code",
   "execution_count": 25,
   "id": "dfa21fc9-412d-426a-8b61-fd4384958b8a",
   "metadata": {
    "ExecuteTime": {
     "end_time": "2024-01-14T21:20:39.995637200Z",
     "start_time": "2024-01-14T21:20:39.993634300Z"
    }
   },
   "outputs": [],
   "source": [
    "def MGD( f, x0, y0, lr, max_iterations):\n",
    "    grad_history = [np.array([x0, y0, f.calc(x0,y0)])]\n",
    "    delta = 0.001\n",
    "    gamma = 0.7\n",
    "    i = 0\n",
    "    x_prev = x0\n",
    "    y_prev = y0\n",
    "    while (i < max_iterations and la.norm(grad_history[-1] - f.glob_min()) > delta):\n",
    "        # new_x = x0 - lr * f.dx(x0,y0) + gamma * (x0 - x_prev)\n",
    "        new_x = gamma * x0 - lr * f.dx(x0,y0) \n",
    "        new_y = gamma * y0 - lr * f.dy(x0,y0)\n",
    "        # new_y = y0 - lr * f.dy(x0,y0) + gamma * (y0 - y_prev)\n",
    "        x_prev = x0\n",
    "        y_prev = y0 \n",
    "        x0 = new_x\n",
    "        y0 = new_y\n",
    "        grad_history.append(np.array([x0, y0, f.calc(x0, y0)]))\n",
    "        i += 1\n",
    "\n",
    "    return np.array(grad_history)\n",
    "     "
   ]
  },
  {
   "cell_type": "code",
   "execution_count": 24,
   "id": "4d9c5d5a-41b2-4947-b210-969b17c65c15",
   "metadata": {
    "ExecuteTime": {
     "end_time": "2024-01-14T21:20:38.055630100Z",
     "start_time": "2024-01-14T21:20:38.046617Z"
    }
   },
   "outputs": [],
   "source": [
    "def AGD( f, x0, y0, lr, max_iterations, b1 = 0.6, b2 = 0.999, e = 10e-8, delta = 0.001):\n",
    "    grad_history = [np.array([x0, y0, f.calc(x0,y0)])]\n",
    "    momentum_1 = np.array([0,0])\n",
    "    momentum_2 = np.array([0,0])\n",
    "    i = 0\n",
    "    while (i < max_iterations and la.norm(grad_history[-1] - f.glob_min()) > delta):\n",
    "        # momentum_1 хранит информацию о градиентах\n",
    "        momentum_1 = b1 * momentum_1 + (1 - b1) * np.array([f.dx(x0,y0), f.dy(x0, y0)]) \n",
    "        # momentum_2 хранит информацию о квадратах градиентов\n",
    "        momentum_2 = b2 * momentum_2 + (1 - b2) * np.array([f.dx(x0,y0), f.dy(x0, y0)]) **2\n",
    "        x0 = x0 - lr * momentum_1[0] / (np.sqrt(momentum_2[0]) + e)\n",
    "        y0 = y0 - lr * momentum_1[1] / (np.sqrt(momentum_2[1]) + e)\n",
    "        grad_history.append(np.array([x0, y0, f.calc(x0, y0)]))\n",
    "        i += 1\n",
    "\n",
    "    return np.array(grad_history)"
   ]
  }
 ],
 "metadata": {
  "kernelspec": {
   "display_name": "Python 3 (ipykernel)",
   "language": "python",
   "name": "python3"
  },
  "language_info": {
   "codemirror_mode": {
    "name": "ipython",
    "version": 3
   },
   "file_extension": ".py",
   "mimetype": "text/x-python",
   "name": "python",
   "nbconvert_exporter": "python",
   "pygments_lexer": "ipython3",
   "version": "3.9.0"
  }
 },
 "nbformat": 4,
 "nbformat_minor": 5
}
