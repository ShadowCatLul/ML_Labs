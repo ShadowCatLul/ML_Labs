{
 "cells": [
  {
   "cell_type": "code",
   "execution_count": 108,
   "id": "6c5c164c-ba79-49c0-a9fc-c94b1e785855",
   "metadata": {},
   "outputs": [],
   "source": [
    "import pygmo as pg\n",
    "\n",
    "import numpy as np\n",
    "from matplotlib import pyplot as plt\n",
    "\n",
    "import math\n",
    "\n",
    "import pandas as pd"
   ]
  },
  {
   "cell_type": "code",
   "execution_count": 109,
   "id": "1141ae28-ff74-47f3-bc68-a1967f962d5d",
   "metadata": {},
   "outputs": [],
   "source": [
    "class Easom():\n",
    "    @staticmethod\n",
    "    def fitness(x):\n",
    "        return [-np.cos(x[0]) * np.cos(x[1]) * np.exp(-((x[0] - np.pi) ** 2 + (x[1] - np.pi) ** 2))]\n",
    "        \n",
    "    @staticmethod\n",
    "    def glob_min():\n",
    "        return np.array([math.pi,math.pi,-1])\n",
    "\n",
    "    @staticmethod\n",
    "    def get_bounds():\n",
    "        #domain =  np.array([[-100, 100], [-100, 100]])\n",
    "        domain =  ([-100, -100], [100, 100])\n",
    "        return(domain)"
   ]
  },
  {
   "cell_type": "code",
   "execution_count": 112,
   "id": "69f0e36e-94dc-4e9d-a2af-7ec9ebb7746f",
   "metadata": {},
   "outputs": [],
   "source": [
    "class Booth():\n",
    "\n",
    "    @staticmethod\n",
    "    def fitness(x):\n",
    "        return [(x[0] + 2*x[1] -7)**2 + (2*x[0] + x[1] - 5)**2]\n",
    "\n",
    "    @staticmethod\n",
    "    def glob_min():\n",
    "        return np.array([1,3,0])\n",
    "        \n",
    "    @staticmethod\n",
    "    def get_bounds():\n",
    "        domain = [[-10, 10], [-10, 10]]\n",
    "        return domain"
   ]
  },
  {
   "cell_type": "code",
   "execution_count": 113,
   "id": "a400dc96-7835-4267-86be-4c12a495f283",
   "metadata": {},
   "outputs": [],
   "source": [
    "def draw_optimization(prob, alg, population_size = 100, gen_number = 100):\n",
    "\n",
    "  population = pg.population(prob, population_size)\n",
    "  individuals_list = []\n",
    "  fitness_list = []\n",
    "\n",
    "  for i in range(gen_number):\n",
    "    population = alg.evolve(population)\n",
    "    fitness_list.append(population.get_f()[population.best_idx()])\n",
    "    individuals_list.append(population.get_x()[population.best_idx()])\n",
    "\n",
    "  #gens = np.linspace(0, gen_number, gen_number)\n",
    "  #fitness_list = np.array(fitness_list)\n",
    "\n",
    "  #fig = plt.figure(figsize = (10, 5))\n",
    "  #ax = plt.axes()\n",
    "  #ax.plot(gens, fitness_list, '-', marker = '.', label = \"Результат чемпиона\")\n",
    "  #ax.set_title(type(prob).__name__)\n",
    "  #ax.set_xlabel(\"Номер поколения\")\n",
    "  #ax.set_ylabel(\"Значение функции \")\n",
    "  #ax.legend()\n",
    "  return individuals_list"
   ]
  },
  {
   "cell_type": "code",
   "execution_count": 114,
   "id": "320de1e5-0063-4d93-a7df-c1c09fc0a089",
   "metadata": {},
   "outputs": [],
   "source": [
    "alg_1 = pg.algorithm(pg.de(100))\n",
    "alg_2 = pg.algorithm(pg.sade(100))\n"
   ]
  },
  {
   "cell_type": "code",
   "execution_count": 115,
   "id": "f613e7be-22b1-4a4d-8684-6e6d1b719bae",
   "metadata": {},
   "outputs": [
    {
     "name": "stdout",
     "output_type": "stream",
     "text": [
      "Problem name: <class '__main__.Easom'>\n",
      "\tC++ class name: class pybind11::object\n",
      "\n",
      "\tGlobal dimension:\t\t\t2\n",
      "\tInteger dimension:\t\t\t0\n",
      "\tFitness dimension:\t\t\t1\n",
      "\tNumber of objectives:\t\t\t1\n",
      "\tEquality constraints dimension:\t\t0\n",
      "\tInequality constraints dimension:\t0\n",
      "\tLower bounds: [-100, -100]\n",
      "\tUpper bounds: [100, 100]\n",
      "\tHas batch fitness evaluation: false\n",
      "\n",
      "\tHas gradient: false\n",
      "\tUser implemented gradient sparsity: false\n",
      "\tHas hessians: false\n",
      "\tUser implemented hessians sparsity: false\n",
      "\n",
      "\tFitness evaluations: 0\n",
      "\n",
      "\tThread safety: none\n",
      "\n"
     ]
    }
   ],
   "source": [
    "prob = pg.problem(Easom())\n",
    "print(prob)"
   ]
  },
  {
   "cell_type": "code",
   "execution_count": 123,
   "id": "99999b7e-05b8-42bf-915f-b99a6e4193a2",
   "metadata": {},
   "outputs": [],
   "source": [
    "algos  = [pg.algorithm(pg.de(gen=100)), pg.algorithm(pg.sade(gen=100)),pg.algorithm(pg.bee_colony(gen = 100))]\n",
    "best  = [0]*3\n",
    "mae = [0]*3\n",
    "for i, algo in enumerate(algos):\n",
    "    pop = pg.population(prob, size = 30)\n",
    "\n",
    "    \n",
    "\n",
    "    best[i] = pop.champion_x\n",
    "\n",
    "    evo_count = 20\n",
    "    for  _ in  range(evo_count):\n",
    "            fitness = draw_optimization(Easom(),  algo)\n",
    "            pop = algo.evolve(pop)\n",
    "            best[i] = pop.champion_x\n",
    "            mae[i]=(np.sum(abs(pop.champion_x + 1) / pop.champion_x.size))"
   ]
  },
  {
   "cell_type": "code",
   "execution_count": 124,
   "id": "736aecf5-d248-4a91-afcf-d806f584a7bc",
   "metadata": {},
   "outputs": [
    {
     "name": "stdout",
     "output_type": "stream",
     "text": [
      "[array([3.14158423, 3.14158909]), array([3.14159415, 3.14159407]), array([3.14158173, 3.14155332])]\n"
     ]
    }
   ],
   "source": [
    "print(best)"
   ]
  },
  {
   "cell_type": "code",
   "execution_count": 125,
   "id": "d9ea6e46-956e-4473-a428-c8c0d268b12d",
   "metadata": {},
   "outputs": [
    {
     "name": "stdout",
     "output_type": "stream",
     "text": [
      "[4.141586659354137, 4.141594106421467, 4.141567525261049]\n"
     ]
    }
   ],
   "source": [
    "print(mae)"
   ]
  },
  {
   "cell_type": "code",
   "execution_count": null,
   "id": "fe8c6650-b0e6-4382-9496-310b1333e1dd",
   "metadata": {},
   "outputs": [],
   "source": []
  },
  {
   "cell_type": "code",
   "execution_count": 120,
   "id": "76ee2b52-3903-4cd7-ac36-34ac7c130ef4",
   "metadata": {},
   "outputs": [],
   "source": [
    "algos  = [pg.algorithm(pg.de(gen=100)), pg.algorithm(pg.sade(gen=100)),pg.algorithm(pg.bee_colony(gen = 100))]\n",
    "bst  = [0]*3\n",
    "mae = [0]*3\n",
    "for i, algo in enumerate(algos):\n",
    "    pop = pg.population(prob, size = 30)\n",
    "\n",
    "    fitness = draw_optimization(Booth(),  algo)\n",
    "\n",
    "    best[i] = pop.champion_x\n",
    "\n",
    "    evo_count = 20\n",
    "    for  _ in  range(evo_count):\n",
    "            pop = algo.evolve(pop)\n",
    "            best[i] = pop.champion_x\n",
    "            mae[i]=(np.sum(abs(pop.champion_x ) / pop.champion_x.size))"
   ]
  },
  {
   "cell_type": "code",
   "execution_count": 121,
   "id": "fce78dba-f4d8-4af0-8e10-2c11a6e3af53",
   "metadata": {},
   "outputs": [
    {
     "name": "stdout",
     "output_type": "stream",
     "text": [
      "[array([3.14158547, 3.14159547]), array([3.14159344, 3.14159679]), array([3.14151731, 3.14160892])]\n"
     ]
    }
   ],
   "source": [
    "print(best)"
   ]
  },
  {
   "cell_type": "code",
   "execution_count": 122,
   "id": "76296983-fc1d-4917-bec0-29f69444119a",
   "metadata": {},
   "outputs": [
    {
     "name": "stdout",
     "output_type": "stream",
     "text": [
      "[3.141590470312858, 3.1415951164070064, 3.1415631142988976]\n"
     ]
    }
   ],
   "source": [
    "print(mae)"
   ]
  }
 ],
 "metadata": {
  "kernelspec": {
   "display_name": "condaEnv",
   "language": "python",
   "name": "condaenv"
  },
  "language_info": {
   "codemirror_mode": {
    "name": "ipython",
    "version": 3
   },
   "file_extension": ".py",
   "mimetype": "text/x-python",
   "name": "python",
   "nbconvert_exporter": "python",
   "pygments_lexer": "ipython3",
   "version": "3.11.5"
  }
 },
 "nbformat": 4,
 "nbformat_minor": 5
}
