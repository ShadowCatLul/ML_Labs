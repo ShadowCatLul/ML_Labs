{
 "cells": [
  {
   "cell_type": "code",
   "execution_count": 2,
   "id": "6c5c164c-ba79-49c0-a9fc-c94b1e785855",
   "metadata": {},
   "outputs": [],
   "source": [
    "import pygmo as pg\n",
    "\n",
    "import numpy as np\n",
    "from matplotlib import pyplot as plt\n",
    "\n",
    "import math\n",
    "\n",
    "import pandas as pd"
   ]
  },
  {
   "cell_type": "code",
   "execution_count": 3,
   "id": "1141ae28-ff74-47f3-bc68-a1967f962d5d",
   "metadata": {},
   "outputs": [],
   "source": [
    "class Easom():\n",
    "    @staticmethod\n",
    "    def fitness(x):\n",
    "        return [-np.cos(x[0]) * np.cos(x[1]) * np.exp(-((x[0] - np.pi) ** 2 + (x[1] - np.pi) ** 2))]\n",
    "        \n",
    "    @staticmethod\n",
    "    def glob_min():\n",
    "        return np.array([math.pi,math.pi,-1])\n",
    "\n",
    "    @staticmethod\n",
    "    def get_bounds():\n",
    "        #domain =  np.array([[-100, 100], [-100, 100]])\n",
    "        domain =  ([-100, -100], [100, 100])\n",
    "        return(domain)"
   ]
  },
  {
   "cell_type": "code",
   "execution_count": 4,
   "id": "69f0e36e-94dc-4e9d-a2af-7ec9ebb7746f",
   "metadata": {},
   "outputs": [],
   "source": [
    "class Booth():\n",
    "\n",
    "    @staticmethod\n",
    "    def fitness(x):\n",
    "        return (x[0] + 2*x[1] -7)**2 + (2*x[0] + x[1] - 5)**2\n",
    "\n",
    "    @staticmethod\n",
    "    def glob_min():\n",
    "        return np.array([1,3,0])\n",
    "        \n",
    "    @staticmethod\n",
    "    def get_bounds():\n",
    "        domain = [[-100, 100], [-10, 10]]\n",
    "        return domain"
   ]
  },
  {
   "cell_type": "code",
   "execution_count": 21,
   "id": "a400dc96-7835-4267-86be-4c12a495f283",
   "metadata": {},
   "outputs": [],
   "source": [
    "def draw_optimization(prob, alg, population_size = 100, gen_number = 100):\n",
    "\n",
    "  population = pg.population(prob, population_size)\n",
    "  individuals_list = []\n",
    "  fitness_list = []\n",
    "\n",
    "  for i in range(gen_number):\n",
    "    population = alg.evolve(population)\n",
    "    fitness_list.append(population.get_f()[population.best_idx()])\n",
    "    individuals_list.append(population.get_x()[population.best_idx()])\n",
    "\n",
    "  #gens = np.linspace(0, gen_number, gen_number)\n",
    "  #fitness_list = np.array(fitness_list)\n",
    "\n",
    "  #fig = plt.figure(figsize = (10, 5))\n",
    "  #ax = plt.axes()\n",
    "  #ax.plot(gens, fitness_list, '-', marker = '.', label = \"Результат чемпиона\")\n",
    "  #ax.set_title(type(prob).__name__)\n",
    "  #ax.set_xlabel(\"Номер поколения\")\n",
    "  #ax.set_ylabel(\"Значение функции \")\n",
    "  #ax.legend()\n",
    "  return individuals_list"
   ]
  },
  {
   "cell_type": "code",
   "execution_count": 12,
   "id": "320de1e5-0063-4d93-a7df-c1c09fc0a089",
   "metadata": {},
   "outputs": [],
   "source": [
    "alg_1 = pg.algorithm(pg.de(100))\n",
    "alg_2 = pg.algorithm(pg.sade(100))\n"
   ]
  },
  {
   "cell_type": "code",
   "execution_count": 31,
   "id": "f613e7be-22b1-4a4d-8684-6e6d1b719bae",
   "metadata": {},
   "outputs": [
    {
     "name": "stdout",
     "output_type": "stream",
     "text": [
      "Problem name: <class '__main__.Easom'>\n",
      "\tC++ class name: class pybind11::object\n",
      "\n",
      "\tGlobal dimension:\t\t\t2\n",
      "\tInteger dimension:\t\t\t0\n",
      "\tFitness dimension:\t\t\t1\n",
      "\tNumber of objectives:\t\t\t1\n",
      "\tEquality constraints dimension:\t\t0\n",
      "\tInequality constraints dimension:\t0\n",
      "\tLower bounds: [-100, -100]\n",
      "\tUpper bounds: [100, 100]\n",
      "\tHas batch fitness evaluation: false\n",
      "\n",
      "\tHas gradient: false\n",
      "\tUser implemented gradient sparsity: false\n",
      "\tHas hessians: false\n",
      "\tUser implemented hessians sparsity: false\n",
      "\n",
      "\tFitness evaluations: 0\n",
      "\n",
      "\tThread safety: none\n",
      "\n"
     ]
    }
   ],
   "source": [
    "prob = pg.problem(Easom())\n",
    "print(prob)"
   ]
  },
  {
   "cell_type": "code",
   "execution_count": 102,
   "id": "99999b7e-05b8-42bf-915f-b99a6e4193a2",
   "metadata": {},
   "outputs": [],
   "source": [
    "algos  = [pg.algorithm(pg.de(gen=100)), pg.algorithm(pg.sade(gen=100)),pg.algorithm(pg.bee_colony(gen = 100))]\n",
    "best  = [0]*3\n",
    "mae = [0]*3\n",
    "for i, algo in enumerate(algos):\n",
    "    pop = pg.population(prob, size = 30)\n",
    "\n",
    "    fitness = draw_optimization(Easom(),  algo)\n",
    "\n",
    "    best[i] = pop.champion_x\n",
    "\n",
    "    evo_count = 20\n",
    "    for  _ in  range(evo_count):\n",
    "            pop = algo.evolve(pop)\n",
    "            best[i] = pop.champion_x\n",
    "            mae[i]=(np.sum(abs(pop.champion_x + 1) / pop.champion_x.size))"
   ]
  },
  {
   "cell_type": "code",
   "execution_count": 103,
   "id": "736aecf5-d248-4a91-afcf-d806f584a7bc",
   "metadata": {},
   "outputs": [
    {
     "name": "stdout",
     "output_type": "stream",
     "text": [
      "[array([ 3.2046389 , -1.69310693]), array([3.14159502, 3.14159427]), array([3.14158856, 3.14159186])]\n"
     ]
    }
   ],
   "source": [
    "print(best)"
   ]
  },
  {
   "cell_type": "code",
   "execution_count": 104,
   "id": "d9ea6e46-956e-4473-a428-c8c0d268b12d",
   "metadata": {},
   "outputs": [
    {
     "name": "stdout",
     "output_type": "stream",
     "text": [
      "[2.448872917956536, 4.14159464440479, 4.141590209257519]\n"
     ]
    }
   ],
   "source": [
    "print(mae)"
   ]
  },
  {
   "cell_type": "code",
   "execution_count": 101,
   "id": "fe8c6650-b0e6-4382-9496-310b1333e1dd",
   "metadata": {},
   "outputs": [
    {
     "data": {
      "text/plain": [
       "2"
      ]
     },
     "execution_count": 101,
     "metadata": {},
     "output_type": "execute_result"
    }
   ],
   "source": [
    "pop.champion_x.size"
   ]
  },
  {
   "cell_type": "code",
   "execution_count": 100,
   "id": "76ee2b52-3903-4cd7-ac36-34ac7c130ef4",
   "metadata": {},
   "outputs": [
    {
     "data": {
      "text/plain": [
       "array([-0.])"
      ]
     },
     "execution_count": 100,
     "metadata": {},
     "output_type": "execute_result"
    }
   ],
   "source": [
    "-1*np.zeros_like(pop.champion_f)"
   ]
  },
  {
   "cell_type": "code",
   "execution_count": 15,
   "id": "fce78dba-f4d8-4af0-8e10-2c11a6e3af53",
   "metadata": {},
   "outputs": [
    {
     "name": "stdout",
     "output_type": "stream",
     "text": [
      "Problem name: <class '__main__.Easom'>\n",
      "\tC++ class name: class pybind11::object\n",
      "\n",
      "\tGlobal dimension:\t\t\t2\n",
      "\tInteger dimension:\t\t\t0\n",
      "\tFitness dimension:\t\t\t1\n",
      "\tNumber of objectives:\t\t\t1\n",
      "\tEquality constraints dimension:\t\t0\n",
      "\tInequality constraints dimension:\t0\n",
      "\tLower bounds: [-100, -100]\n",
      "\tUpper bounds: [100, 100]\n",
      "\tHas batch fitness evaluation: false\n",
      "\n",
      "\tHas gradient: false\n",
      "\tUser implemented gradient sparsity: false\n",
      "\tHas hessians: false\n",
      "\tUser implemented hessians sparsity: false\n",
      "\n",
      "\tFitness evaluations: 4020\n",
      "\n",
      "\tThread safety: none\n",
      "\n",
      "Population size: 20\n",
      "\n",
      "List of individuals: \n",
      "#0:\n",
      "\tID:\t\t\t7308239965379722057\n",
      "\tDecision vector:\t[-53.6953, 97.6113]\n",
      "\tFitness vector:\t\t[-0]\n",
      "#1:\n",
      "\tID:\t\t\t4392602774757030759\n",
      "\tDecision vector:\t[22.6415, 84.6932]\n",
      "\tFitness vector:\t\t[-0]\n",
      "#2:\n",
      "\tID:\t\t\t2889897961285594796\n",
      "\tDecision vector:\t[5.29259, 1.41242]\n",
      "\tFitness vector:\t\t[-4.2546e-05]\n",
      "#3:\n",
      "\tID:\t\t\t10664060267008005195\n",
      "\tDecision vector:\t[3.20576, 3.15405]\n",
      "\tFitness vector:\t\t[-0.993609]\n",
      "#4:\n",
      "\tID:\t\t\t1255910286363120221\n",
      "\tDecision vector:\t[3.13837, 3.17059]\n",
      "\tFitness vector:\t\t[-0.998724]\n",
      "#5:\n",
      "\tID:\t\t\t813943174126744369\n",
      "\tDecision vector:\t[-4.56596, 3.39121]\n",
      "\tFitness vector:\t\t[-2.10635e-27]\n",
      "#6:\n",
      "\tID:\t\t\t5462903361142324882\n",
      "\tDecision vector:\t[-88.9176, 62.2423]\n",
      "\tFitness vector:\t\t[-0]\n",
      "#7:\n",
      "\tID:\t\t\t9664699413531846089\n",
      "\tDecision vector:\t[-81.687, 22.5455]\n",
      "\tFitness vector:\t\t[0]\n",
      "#8:\n",
      "\tID:\t\t\t387636396028743592\n",
      "\tDecision vector:\t[-11.0983, 18.7466]\n",
      "\tFitness vector:\t\t[-1.53475e-195]\n",
      "#9:\n",
      "\tID:\t\t\t13906316759527992340\n",
      "\tDecision vector:\t[-5.71068, -16.3191]\n",
      "\tFitness vector:\t\t[2.13698e-199]\n",
      "#10:\n",
      "\tID:\t\t\t15763997527463573953\n",
      "\tDecision vector:\t[27.7511, -41.6442]\n",
      "\tFitness vector:\t\t[-0]\n",
      "#11:\n",
      "\tID:\t\t\t1635024881571868511\n",
      "\tDecision vector:\t[1.17338, 0.769287]\n",
      "\tFitness vector:\t\t[-2.07775e-05]\n",
      "#12:\n",
      "\tID:\t\t\t2781430323478333207\n",
      "\tDecision vector:\t[-82.6915, 72.6514]\n",
      "\tFitness vector:\t\t[0]\n",
      "#13:\n",
      "\tID:\t\t\t13766253787282423732\n",
      "\tDecision vector:\t[1.30479, 4.99032]\n",
      "\tFitness vector:\t\t[-8.10063e-05]\n",
      "#14:\n",
      "\tID:\t\t\t6204639941939339483\n",
      "\tDecision vector:\t[3.14668, 3.1724]\n",
      "\tFitness vector:\t\t[-0.998538]\n",
      "#15:\n",
      "\tID:\t\t\t5784316272309404493\n",
      "\tDecision vector:\t[-49.9416, -45.2934]\n",
      "\tFitness vector:\t\t[-0]\n",
      "#16:\n",
      "\tID:\t\t\t8776179675777710061\n",
      "\tDecision vector:\t[1.29464, 5.01746]\n",
      "\tFitness vector:\t\t[-8.00857e-05]\n",
      "#17:\n",
      "\tID:\t\t\t4268924866011205115\n",
      "\tDecision vector:\t[2.4545, -77.4227]\n",
      "\tFitness vector:\t\t[-0]\n",
      "#18:\n",
      "\tID:\t\t\t2844603213095730729\n",
      "\tDecision vector:\t[3.13643, 3.13944]\n",
      "\tFitness vector:\t\t[-0.999953]\n",
      "#19:\n",
      "\tID:\t\t\t7534309871151079637\n",
      "\tDecision vector:\t[-55.1874, -7.02951]\n",
      "\tFitness vector:\t\t[-0]\n",
      "\n",
      "Champion decision vector: [3.13643, 3.13944]\n",
      "Champion fitness: [-0.999953]\n",
      "\n"
     ]
    }
   ],
   "source": [
    "print(pop)"
   ]
  }
 ],
 "metadata": {
  "kernelspec": {
   "display_name": "condaEnv",
   "language": "python",
   "name": "condaenv"
  },
  "language_info": {
   "codemirror_mode": {
    "name": "ipython",
    "version": 3
   },
   "file_extension": ".py",
   "mimetype": "text/x-python",
   "name": "python",
   "nbconvert_exporter": "python",
   "pygments_lexer": "ipython3",
   "version": "3.11.5"
  }
 },
 "nbformat": 4,
 "nbformat_minor": 5
}
